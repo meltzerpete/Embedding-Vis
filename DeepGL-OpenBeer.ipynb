{
 "cells": [
  {
   "cell_type": "markdown",
   "metadata": {},
   "source": [
    "# DeepGL - Deep Feature Learning for graphs\n",
    "\n",
    "We've implemented the [DeepGL](https://arxiv.org/abs/1704.08829) algorithm as a Neo4j procedure and this notebook shows our experiments with it against a SNAP email dataset.\n",
    "\n",
    "First up let's import some things..."
   ]
  },
  {
   "cell_type": "code",
   "execution_count": 33,
   "metadata": {},
   "outputs": [],
   "source": [
    "import numpy as np\n",
    "import matplotlib.pyplot as plt\n",
    "from sklearn import manifold\n",
    "from sklearn.model_selection import train_test_split\n",
    "from sklearn.neural_network import MLPClassifier\n",
    "import pandas as pd\n",
    "from neo4j.v1 import GraphDatabase\n",
    "import tensorflow as tf\n",
    "\n",
    "\n",
    "# load data\n",
    "from sklearn.preprocessing import StandardScaler"
   ]
  },
  {
   "cell_type": "code",
   "execution_count": 45,
   "metadata": {},
   "outputs": [],
   "source": [
    "driver = GraphDatabase.driver(\"bolt://localhost\", auth=(\"neo4j\", \"neo\"))"
   ]
  },
  {
   "cell_type": "markdown",
   "metadata": {},
   "source": [
    "Time to load our data into Neo4j."
   ]
  },
  {
   "cell_type": "code",
   "execution_count": 17,
   "metadata": {},
   "outputs": [
    {
     "name": "stdout",
     "output_type": "stream",
     "text": [
      "{'properties_set': 23604}\n",
      "{'properties_set': 12726}\n",
      "{}\n",
      "{'properties_set': 141}\n",
      "{}\n",
      "{'properties_set': 2608}\n",
      "{'relationships_created': 1298}\n"
     ]
    }
   ],
   "source": [
    "edge_list_file = \"https://github.com/meltzerpete/Embedding-Vis/raw/master/emails/emails.edgelist\"\n",
    "labels_file = \"https://github.com/meltzerpete/Embedding-Vis/raw/master/emails/emails.labels\"\n",
    "attributes_file = None\n",
    "\n",
    "with driver.session() as session:\n",
    "    session.run(\"CREATE INDEX ON :Beer(beerID)\")\n",
    "    session.run(\"CREATE INDEX ON :Beerer(beererID)\")\n",
    "    session.run(\"CREATE INDEX ON :Brewery(breweryID)\")\n",
    "    session.run(\"CREATE INDEX ON :Geocode(geocodeID)\")\n",
    "    \n",
    "    result = session.run(\"\"\"\\\n",
    "        LOAD CSV WITH HEADERS FROM 'https://github.com/aicfr/neo4j-openbeerdb/raw/master/beers.csv' AS row\n",
    "        MERGE (b:Beer { beerID: toInteger(row.id) })\n",
    "        SET b.beerName = row.name, b.description = row.descript, b.abv = toFloat(row.abv), b.label = toInteger(row.cat_id)\n",
    "        \"\"\")    \n",
    "    print(result.summary().counters)\n",
    "    \n",
    "    result = session.run(\"\"\"\\\n",
    "    LOAD CSV WITH HEADERS FROM 'https://github.com/aicfr/neo4j-openbeerdb/raw/master/breweries.csv' AS row\n",
    "    MERGE (b:Brewery { breweryID: toInteger(row.id) })\n",
    "    SET b.breweryName = row.name, \n",
    "        b.address1 = row.address1, \n",
    "        b.city = row.city, \n",
    "        b.state = row.state, \n",
    "        b.zipCode = row.code, \n",
    "        b.country = row.country, \n",
    "        b.phoneNumber = row.phone, \n",
    "        b.website = row.website, \n",
    "        b.description = row.descript\n",
    "    \"\"\")\n",
    "    print(result.summary().counters)\n",
    "    \n",
    "    result = session.run(\"\"\"\\\n",
    "    USING PERIODIC COMMIT\n",
    "    LOAD CSV WITH HEADERS FROM \"https://github.com/aicfr/neo4j-openbeerdb/raw/master/beers.csv\" AS row\n",
    "    MATCH (beer:Beer {beerID: toInteger(row.id)})\n",
    "    MATCH (brewery:Brewery {breweryID: toInteger(row.brewery_id)})\n",
    "    MERGE (beer)-[:BREWED_AT]->(brewery);\"\"\")\n",
    "    print(result.summary().counters)\n",
    "    \n",
    "    result = session.run(\"\"\"\\\n",
    "    LOAD CSV WITH HEADERS FROM 'https://github.com/aicfr/neo4j-openbeerdb/raw/master/styles.csv' AS row\n",
    "    MERGE (s:Style { styleID: toInteger(row.id) })\n",
    "    SET s.styleName = row.style_name\"\"\")\n",
    "    print(result.summary().counters)\n",
    "    \n",
    "    result = session.run(\"\"\"\\\n",
    "    USING PERIODIC COMMIT\n",
    "    LOAD CSV WITH HEADERS FROM \"https://github.com/aicfr/neo4j-openbeerdb/raw/master/beers.csv\" AS row\n",
    "    MATCH (beer:Beer {beerID: toInteger(row.id)})\n",
    "    MATCH (style:Style {styleID: toInteger(row.style_id)})\n",
    "    MERGE (beer)-[:BEER_STYLE]->(style)\"\"\")\n",
    "    print(result.summary().counters)\n",
    "    \n",
    "    result = session.run(\"\"\"\\\n",
    "    LOAD CSV WITH HEADERS FROM 'https://github.com/aicfr/neo4j-openbeerdb/raw/master/geocodes.csv' AS row\n",
    "    MERGE (g:Geocode { geocodeID: toInteger(row.id) })\n",
    "    SET g.latitude = toFloat(row.latitude), g.longitude = toFloat(row.longitude)\"\"\")\n",
    "    print(result.summary().counters)\n",
    "    \n",
    "    result = session.run(\"\"\"\\\n",
    "    USING PERIODIC COMMIT\n",
    "    LOAD CSV WITH HEADERS FROM \"https://github.com/aicfr/neo4j-openbeerdb/raw/master/geocodes.csv\" AS row\n",
    "    MATCH (brewery:Brewery {breweryID: toInteger(row.brewery_id)})\n",
    "    MATCH (geocode:Geocode {geocodeID: toInteger(row.id)})\n",
    "    MERGE (brewery)-[:GEOLOCATED_AT]->(geocode)\"\"\")\n",
    "    print(result.summary().counters)"
   ]
  },
  {
   "cell_type": "code",
   "execution_count": 35,
   "metadata": {},
   "outputs": [],
   "source": [
    "embedding_property_name = \"embedding-beers\"\n",
    "node_features = []\n",
    "pruning_lambda = 0.6\n",
    "diffusions = 3\n",
    "iterations = 1"
   ]
  },
  {
   "cell_type": "code",
   "execution_count": 46,
   "metadata": {},
   "outputs": [
    {
     "name": "stdout",
     "output_type": "stream",
     "text": [
      "<Record loadMillis=102 computeMillis=1017251 writeMillis=298 nodes=8760 writeProperty='embedding-beers' embeddingSize=8 numberOfLayers=2 features=['diffuse( rbf_in_neighbourhood( OUT_DEGREE))', 'diffuse( rbf_in_neighbourhood( IN_DEGREE))', 'diffuse( sum_out_neighbourhood( IN_DEGREE))', 'IN_DEGREE', 'diffuse( l1Norm_out_neighbourhood( OUT_DEGREE))', 'diffuse( l1Norm_out_neighbourhood( IN_DEGREE))', 'diffuse( hadamard_both_neighbourhood( BOTH_DEGREE))', 'diffuse( sum_in_neighbourhood( IN_DEGREE))']>\n"
     ]
    }
   ],
   "source": [
    "with driver.session() as session:\n",
    "    params = {\n",
    "        \"writeProperty\": embedding_property_name,\n",
    "        \"nodeFeatures\": node_features,\n",
    "        \"pruningLambda\": pruning_lambda,\n",
    "        \"diffusions\": diffusions,\n",
    "        \"iterations\": iterations\n",
    "    }\n",
    "    result = session.run(\"\"\"\n",
    "    call\n",
    "    algo.deepgl(\n",
    "        null,\n",
    "        null,\n",
    "        \n",
    "        {nodeFeatures: $nodeFeatures,\n",
    "         pruningLambda: $pruningLambda,\n",
    "         diffusions: $diffusions,\n",
    "         iterations: $iterations,\n",
    "         writeProperty: $writeProperty})\n",
    "    \"\"\", params)\n",
    "    print(result.peek())"
   ]
  },
  {
   "cell_type": "code",
   "execution_count": 60,
   "metadata": {},
   "outputs": [
    {
     "data": {
      "text/plain": [
       "array([0, 0, 0, ..., 7, 7, 7])"
      ]
     },
     "execution_count": 60,
     "metadata": {},
     "output_type": "execute_result"
    }
   ],
   "source": [
    "with driver.session() as session:\n",
    "    result = session.run(\"\"\"\\\n",
    "    MATCH (n:Beer) \n",
    "    WHERE n.label <> -1 AND n.label <> 3\n",
    "    WITH n.label as class, count(*) AS c\n",
    "    ORDER BY c DESC\n",
    "    WITH class ORDER BY class\n",
    "    with collect(class) AS biggestClasses\n",
    "    MATCH (p:Beer) WHERE p.label IN biggestClasses\n",
    "    RETURN p.`%s` AS embedding, apoc.coll.indexOf(biggestClasses, p.label) AS label, p.label as initialLabel, biggestClasses\n",
    "    ORDER BY label\n",
    "    \"\"\" % embedding_property_name)\n",
    "\n",
    "    df = pd.DataFrame(dict(row) for row in result)\n",
    "\n",
    "emb = df[\"embedding\"].apply(pd.Series).values\n",
    "labels = df[\"label\"].values"
   ]
  },
  {
   "cell_type": "code",
   "execution_count": null,
   "metadata": {},
   "outputs": [
    {
     "name": "stderr",
     "output_type": "stream",
     "text": [
      "/Users/markneedham/projects/Embedding-Vis/a/lib/python3.6/site-packages/matplotlib/cbook/deprecation.py:107: MatplotlibDeprecationWarning: Adding an axes using the same arguments as a previous axes currently reuses the earlier instance.  In a future version, a new instance will always be created and returned.  Meanwhile, this warning can be suppressed, and the future behavior ensured, by passing a unique label to each axes instance.\n",
      "  warnings.warn(message, mplDeprecation, stacklevel=1)\n"
     ]
    },
    {
     "data": {
      "image/png": "[encoded data removed]",
      "text/plain": [
       "<Figure size 432x288 with 1 Axes>"
      ]
     },
     "metadata": {},
     "output_type": "display_data"
    }
   ],
   "source": [
    "# Heatmap\n",
    "colours = ['r', 'g', 'b', 'black', 'y', 'orange', 'white', \"beige\"]\n",
    "cols = pd.DataFrame(labels).apply(lambda x: colours[int(x)], axis=1).values\n",
    "\n",
    "dist = np.ndarray([len(emb), len(emb)])\n",
    "\n",
    "for i, e1 in enumerate(emb):\n",
    "    for j, e2 in enumerate(emb):\n",
    "        dist.itemset((i, j), np.linalg.norm(e1 - e2, 2))\n",
    "\n",
    "plt.imshow(dist)\n",
    "plt.axes().xaxis.tick_top()\n",
    "plt.xticks(np.arange(len(dist)), labels)\n",
    "plt.yticks(np.arange(len(dist)), labels)\n",
    "plt.show()\n",
    "\n",
    "# 2D Visualisation\n",
    "# from: https://baoilleach.blogspot.com/2014/01/convert-distance-matrix-to-2d.html\n",
    "adist = dist\n",
    "amax = np.amax(adist)\n",
    "adist /= amax\n",
    "\n",
    "mds = manifold.MDS(n_components=2, dissimilarity=\"precomputed\", random_state=6)\n",
    "results = mds.fit(adist)\n",
    "\n",
    "coords = results.embedding_\n",
    "\n",
    "plt.subplots_adjust(bottom=0.1)\n",
    "plt.scatter(\n",
    "    coords[:, 0], coords[:, 1], marker='o', c=cols\n",
    ")\n",
    "\n",
    "plt.show()"
   ]
  },
  {
   "cell_type": "code",
   "execution_count": 48,
   "metadata": {},
   "outputs": [
    {
     "name": "stdout",
     "output_type": "stream",
     "text": [
      "{'activation': 'tanh', 'alpha': 1e-05, 'batch_size': 2430, 'beta_1': 0.9, 'beta_2': 0.999, 'early_stopping': False, 'epsilon': 1e-08, 'hidden_layer_sizes': (30, 30), 'learning_rate': 'constant', 'learning_rate_init': 0.001, 'max_iter': 10000, 'momentum': 0.9, 'nesterovs_momentum': True, 'power_t': 0.5, 'random_state': 0, 'shuffle': True, 'solver': 'sgd', 'tol': 0.0001, 'validation_fraction': 0.1, 'verbose': False, 'warm_start': False}\n"
     ]
    },
    {
     "name": "stderr",
     "output_type": "stream",
     "text": [
      "/Users/markneedham/projects/Embedding-Vis/a/lib/python3.6/site-packages/sklearn/neural_network/multilayer_perceptron.py:358: UserWarning: Got `batch_size` less than 1 or larger than sample size. It is going to be clipped\n",
      "  warnings.warn(\"Got `batch_size` less than 1 or larger than \"\n"
     ]
    },
    {
     "name": "stdout",
     "output_type": "stream",
     "text": [
      "0.5421810699588477\n"
     ]
    }
   ],
   "source": [
    "X = pd.DataFrame(emb)\n",
    "y = labels\n",
    "\n",
    "X = StandardScaler().fit_transform(X)\n",
    "train_x, test_x, train_y, test_y = train_test_split(X, y, test_size=.4, random_state=42)\n",
    "\n",
    "clf = MLPClassifier(solver='sgd',\n",
    "                    activation='tanh',\n",
    "                    learning_rate_init=0.001,\n",
    "                    alpha=1e-5,\n",
    "                    hidden_layer_sizes=(30, 30),\n",
    "                    max_iter=10000,\n",
    "                    batch_size=X.shape[0],\n",
    "                    random_state=0)\n",
    "\n",
    "clf.n_outputs_ = 6\n",
    "clf.out_activation_ = \"softmax\"\n",
    "print(clf.get_params())\n",
    "clf.fit(train_x, train_y)\n",
    "\n",
    "mean_acc = clf.score(test_x, test_y)\n",
    "print(mean_acc)"
   ]
  },
  {
   "cell_type": "code",
   "execution_count": 51,
   "metadata": {},
   "outputs": [],
   "source": [
    "emb = StandardScaler().fit_transform(emb)\n",
    "\n",
    "X_train, X_test, y_train, y_test = train_test_split(emb, labels, test_size=0.33, random_state=42)"
   ]
  },
  {
   "cell_type": "code",
   "execution_count": 54,
   "metadata": {},
   "outputs": [],
   "source": [
    "# Parameters\n",
    "learning_rate = 0.1\n",
    "num_steps = 1000\n",
    "batch_size = 128\n",
    "display_step = 100\n",
    "\n",
    "# Network Parameters\n",
    "n_hidden_1 = 30 # 1st layer number of neurons\n",
    "n_hidden_2 = 30 # 2nd layer number of neurons\n",
    "num_input = 18 \n",
    "num_classes = 8 \n",
    "\n",
    "# Define the neural network\n",
    "def neural_net(x_dict):\n",
    "    x = x_dict['emb']\n",
    "    layer_1 = tf.layers.dense(x, n_hidden_1, activation=tf.nn.tanh)\n",
    "    layer_2 = tf.layers.dense(layer_1, n_hidden_2, activation=tf.nn.tanh)\n",
    "    out_layer = tf.layers.dense(layer_2, num_classes)\n",
    "    return out_layer\n",
    "\n",
    "\n",
    "# Define the model function (following TF Estimator Template)\n",
    "def model_fn(features, labels, mode):\n",
    "    # Build the neural network\n",
    "    logits = neural_net(features)\n",
    "\n",
    "    # Predictions\n",
    "    pred_classes = tf.argmax(logits, axis=1)\n",
    "    pred_probas = tf.nn.softmax(logits)\n",
    "\n",
    "    # If prediction mode, early return\n",
    "    if mode == tf.estimator.ModeKeys.PREDICT:\n",
    "        return tf.estimator.EstimatorSpec(mode, predictions=pred_classes)\n",
    "\n",
    "        # Define loss and optimizer\n",
    "    loss_op = tf.reduce_mean(tf.nn.sparse_softmax_cross_entropy_with_logits(\n",
    "        logits=logits, labels=tf.cast(labels, dtype=tf.int32)))\n",
    "    optimizer = tf.train.GradientDescentOptimizer(learning_rate=learning_rate)\n",
    "    train_op = optimizer.minimize(loss_op,\n",
    "                                  global_step=tf.train.get_global_step())\n",
    "\n",
    "    # Evaluate the accuracy of the model\n",
    "    acc_op = tf.metrics.accuracy(labels=labels, predictions=pred_classes)\n",
    "\n",
    "    # TF Estimators requires to return a EstimatorSpec, that specify\n",
    "    # the different ops for training, evaluating, ...\n",
    "    estim_specs = tf.estimator.EstimatorSpec(\n",
    "        mode=mode,\n",
    "        predictions=pred_classes,\n",
    "        loss=loss_op,\n",
    "        train_op=train_op,\n",
    "        eval_metric_ops={'accuracy': acc_op})\n",
    "\n",
    "    return estim_specs"
   ]
  },
  {
   "cell_type": "code",
   "execution_count": 55,
   "metadata": {},
   "outputs": [
    {
     "name": "stdout",
     "output_type": "stream",
     "text": [
      "INFO:tensorflow:Using default config.\n"
     ]
    },
    {
     "name": "stderr",
     "output_type": "stream",
     "text": [
      "INFO:tensorflow:Using default config.\n"
     ]
    },
    {
     "name": "stdout",
     "output_type": "stream",
     "text": [
      "WARNING:tensorflow:Using temporary folder as model directory: /var/folders/k5/ssmkw9vd2yb3h5wnqlxnqbkw0000gn/T/tmp8sbe2rt5\n"
     ]
    },
    {
     "name": "stderr",
     "output_type": "stream",
     "text": [
      "WARNING:tensorflow:Using temporary folder as model directory: /var/folders/k5/ssmkw9vd2yb3h5wnqlxnqbkw0000gn/T/tmp8sbe2rt5\n"
     ]
    },
    {
     "name": "stdout",
     "output_type": "stream",
     "text": [
      "INFO:tensorflow:Using config: {'_model_dir': '/var/folders/k5/ssmkw9vd2yb3h5wnqlxnqbkw0000gn/T/tmp8sbe2rt5', '_tf_random_seed': None, '_save_summary_steps': 100, '_save_checkpoints_steps': None, '_save_checkpoints_secs': 600, '_session_config': None, '_keep_checkpoint_max': 5, '_keep_checkpoint_every_n_hours': 10000, '_log_step_count_steps': 100, '_train_distribute': None, '_service': None, '_cluster_spec': <tensorflow.python.training.server_lib.ClusterSpec object at 0x11c46ab38>, '_task_type': 'worker', '_task_id': 0, '_global_id_in_cluster': 0, '_master': '', '_evaluation_master': '', '_is_chief': True, '_num_ps_replicas': 0, '_num_worker_replicas': 1}\n"
     ]
    },
    {
     "name": "stderr",
     "output_type": "stream",
     "text": [
      "INFO:tensorflow:Using config: {'_model_dir': '/var/folders/k5/ssmkw9vd2yb3h5wnqlxnqbkw0000gn/T/tmp8sbe2rt5', '_tf_random_seed': None, '_save_summary_steps': 100, '_save_checkpoints_steps': None, '_save_checkpoints_secs': 600, '_session_config': None, '_keep_checkpoint_max': 5, '_keep_checkpoint_every_n_hours': 10000, '_log_step_count_steps': 100, '_train_distribute': None, '_service': None, '_cluster_spec': <tensorflow.python.training.server_lib.ClusterSpec object at 0x11c46ab38>, '_task_type': 'worker', '_task_id': 0, '_global_id_in_cluster': 0, '_master': '', '_evaluation_master': '', '_is_chief': True, '_num_ps_replicas': 0, '_num_worker_replicas': 1}\n"
     ]
    },
    {
     "name": "stdout",
     "output_type": "stream",
     "text": [
      "INFO:tensorflow:Calling model_fn.\n"
     ]
    },
    {
     "name": "stderr",
     "output_type": "stream",
     "text": [
      "INFO:tensorflow:Calling model_fn.\n"
     ]
    },
    {
     "name": "stdout",
     "output_type": "stream",
     "text": [
      "INFO:tensorflow:Done calling model_fn.\n"
     ]
    },
    {
     "name": "stderr",
     "output_type": "stream",
     "text": [
      "INFO:tensorflow:Done calling model_fn.\n"
     ]
    },
    {
     "name": "stdout",
     "output_type": "stream",
     "text": [
      "INFO:tensorflow:Create CheckpointSaverHook.\n"
     ]
    },
    {
     "name": "stderr",
     "output_type": "stream",
     "text": [
      "INFO:tensorflow:Create CheckpointSaverHook.\n"
     ]
    },
    {
     "name": "stdout",
     "output_type": "stream",
     "text": [
      "INFO:tensorflow:Graph was finalized.\n"
     ]
    },
    {
     "name": "stderr",
     "output_type": "stream",
     "text": [
      "INFO:tensorflow:Graph was finalized.\n"
     ]
    },
    {
     "name": "stdout",
     "output_type": "stream",
     "text": [
      "INFO:tensorflow:Running local_init_op.\n"
     ]
    },
    {
     "name": "stderr",
     "output_type": "stream",
     "text": [
      "INFO:tensorflow:Running local_init_op.\n"
     ]
    },
    {
     "name": "stdout",
     "output_type": "stream",
     "text": [
      "INFO:tensorflow:Done running local_init_op.\n"
     ]
    },
    {
     "name": "stderr",
     "output_type": "stream",
     "text": [
      "INFO:tensorflow:Done running local_init_op.\n"
     ]
    },
    {
     "name": "stdout",
     "output_type": "stream",
     "text": [
      "INFO:tensorflow:Saving checkpoints for 1 into /var/folders/k5/ssmkw9vd2yb3h5wnqlxnqbkw0000gn/T/tmp8sbe2rt5/model.ckpt.\n"
     ]
    },
    {
     "name": "stderr",
     "output_type": "stream",
     "text": [
      "INFO:tensorflow:Saving checkpoints for 1 into /var/folders/k5/ssmkw9vd2yb3h5wnqlxnqbkw0000gn/T/tmp8sbe2rt5/model.ckpt.\n"
     ]
    },
    {
     "name": "stdout",
     "output_type": "stream",
     "text": [
      "INFO:tensorflow:loss = 2.141007065813967, step = 1\n"
     ]
    },
    {
     "name": "stderr",
     "output_type": "stream",
     "text": [
      "INFO:tensorflow:loss = 2.141007065813967, step = 1\n"
     ]
    },
    {
     "name": "stdout",
     "output_type": "stream",
     "text": [
      "INFO:tensorflow:global_step/sec: 750.423\n"
     ]
    },
    {
     "name": "stderr",
     "output_type": "stream",
     "text": [
      "INFO:tensorflow:global_step/sec: 750.423\n"
     ]
    },
    {
     "name": "stdout",
     "output_type": "stream",
     "text": [
      "INFO:tensorflow:loss = 1.1544880576662484, step = 101 (0.134 sec)\n"
     ]
    },
    {
     "name": "stderr",
     "output_type": "stream",
     "text": [
      "INFO:tensorflow:loss = 1.1544880576662484, step = 101 (0.134 sec)\n"
     ]
    },
    {
     "name": "stdout",
     "output_type": "stream",
     "text": [
      "INFO:tensorflow:global_step/sec: 740.43\n"
     ]
    },
    {
     "name": "stderr",
     "output_type": "stream",
     "text": [
      "INFO:tensorflow:global_step/sec: 740.43\n"
     ]
    },
    {
     "name": "stdout",
     "output_type": "stream",
     "text": [
      "INFO:tensorflow:loss = 1.2958547745750058, step = 201 (0.136 sec)\n"
     ]
    },
    {
     "name": "stderr",
     "output_type": "stream",
     "text": [
      "INFO:tensorflow:loss = 1.2958547745750058, step = 201 (0.136 sec)\n"
     ]
    },
    {
     "name": "stdout",
     "output_type": "stream",
     "text": [
      "INFO:tensorflow:global_step/sec: 655.08\n"
     ]
    },
    {
     "name": "stderr",
     "output_type": "stream",
     "text": [
      "INFO:tensorflow:global_step/sec: 655.08\n"
     ]
    },
    {
     "name": "stdout",
     "output_type": "stream",
     "text": [
      "INFO:tensorflow:loss = 1.0670005235372262, step = 301 (0.152 sec)\n"
     ]
    },
    {
     "name": "stderr",
     "output_type": "stream",
     "text": [
      "INFO:tensorflow:loss = 1.0670005235372262, step = 301 (0.152 sec)\n"
     ]
    },
    {
     "name": "stdout",
     "output_type": "stream",
     "text": [
      "INFO:tensorflow:global_step/sec: 670.561\n"
     ]
    },
    {
     "name": "stderr",
     "output_type": "stream",
     "text": [
      "INFO:tensorflow:global_step/sec: 670.561\n"
     ]
    },
    {
     "name": "stdout",
     "output_type": "stream",
     "text": [
      "INFO:tensorflow:loss = 0.9162653080158013, step = 401 (0.150 sec)\n"
     ]
    },
    {
     "name": "stderr",
     "output_type": "stream",
     "text": [
      "INFO:tensorflow:loss = 0.9162653080158013, step = 401 (0.150 sec)\n"
     ]
    },
    {
     "name": "stdout",
     "output_type": "stream",
     "text": [
      "INFO:tensorflow:global_step/sec: 718.519\n"
     ]
    },
    {
     "name": "stderr",
     "output_type": "stream",
     "text": [
      "INFO:tensorflow:global_step/sec: 718.519\n"
     ]
    },
    {
     "name": "stdout",
     "output_type": "stream",
     "text": [
      "INFO:tensorflow:loss = 1.0275722080773106, step = 501 (0.139 sec)\n"
     ]
    },
    {
     "name": "stderr",
     "output_type": "stream",
     "text": [
      "INFO:tensorflow:loss = 1.0275722080773106, step = 501 (0.139 sec)\n"
     ]
    },
    {
     "name": "stdout",
     "output_type": "stream",
     "text": [
      "INFO:tensorflow:global_step/sec: 696.647\n"
     ]
    },
    {
     "name": "stderr",
     "output_type": "stream",
     "text": [
      "INFO:tensorflow:global_step/sec: 696.647\n"
     ]
    },
    {
     "name": "stdout",
     "output_type": "stream",
     "text": [
      "INFO:tensorflow:loss = 0.870964697318096, step = 601 (0.144 sec)\n"
     ]
    },
    {
     "name": "stderr",
     "output_type": "stream",
     "text": [
      "INFO:tensorflow:loss = 0.870964697318096, step = 601 (0.144 sec)\n"
     ]
    },
    {
     "name": "stdout",
     "output_type": "stream",
     "text": [
      "INFO:tensorflow:global_step/sec: 747.339\n"
     ]
    },
    {
     "name": "stderr",
     "output_type": "stream",
     "text": [
      "INFO:tensorflow:global_step/sec: 747.339\n"
     ]
    },
    {
     "name": "stdout",
     "output_type": "stream",
     "text": [
      "INFO:tensorflow:loss = 0.8482623569150377, step = 701 (0.134 sec)\n"
     ]
    },
    {
     "name": "stderr",
     "output_type": "stream",
     "text": [
      "INFO:tensorflow:loss = 0.8482623569150377, step = 701 (0.134 sec)\n"
     ]
    },
    {
     "name": "stdout",
     "output_type": "stream",
     "text": [
      "INFO:tensorflow:global_step/sec: 701.346\n"
     ]
    },
    {
     "name": "stderr",
     "output_type": "stream",
     "text": [
      "INFO:tensorflow:global_step/sec: 701.346\n"
     ]
    },
    {
     "name": "stdout",
     "output_type": "stream",
     "text": [
      "INFO:tensorflow:loss = 0.8221701189164687, step = 801 (0.142 sec)\n"
     ]
    },
    {
     "name": "stderr",
     "output_type": "stream",
     "text": [
      "INFO:tensorflow:loss = 0.8221701189164687, step = 801 (0.142 sec)\n"
     ]
    },
    {
     "name": "stdout",
     "output_type": "stream",
     "text": [
      "INFO:tensorflow:global_step/sec: 742.744\n"
     ]
    },
    {
     "name": "stderr",
     "output_type": "stream",
     "text": [
      "INFO:tensorflow:global_step/sec: 742.744\n"
     ]
    },
    {
     "name": "stdout",
     "output_type": "stream",
     "text": [
      "INFO:tensorflow:loss = 0.7631689026371873, step = 901 (0.135 sec)\n"
     ]
    },
    {
     "name": "stderr",
     "output_type": "stream",
     "text": [
      "INFO:tensorflow:loss = 0.7631689026371873, step = 901 (0.135 sec)\n"
     ]
    },
    {
     "name": "stdout",
     "output_type": "stream",
     "text": [
      "INFO:tensorflow:Saving checkpoints for 1000 into /var/folders/k5/ssmkw9vd2yb3h5wnqlxnqbkw0000gn/T/tmp8sbe2rt5/model.ckpt.\n"
     ]
    },
    {
     "name": "stderr",
     "output_type": "stream",
     "text": [
      "INFO:tensorflow:Saving checkpoints for 1000 into /var/folders/k5/ssmkw9vd2yb3h5wnqlxnqbkw0000gn/T/tmp8sbe2rt5/model.ckpt.\n"
     ]
    },
    {
     "name": "stdout",
     "output_type": "stream",
     "text": [
      "INFO:tensorflow:Loss for final step: 0.7713355605777099.\n"
     ]
    },
    {
     "name": "stderr",
     "output_type": "stream",
     "text": [
      "INFO:tensorflow:Loss for final step: 0.7713355605777099.\n"
     ]
    },
    {
     "name": "stdout",
     "output_type": "stream",
     "text": [
      "INFO:tensorflow:Calling model_fn.\n"
     ]
    },
    {
     "name": "stderr",
     "output_type": "stream",
     "text": [
      "INFO:tensorflow:Calling model_fn.\n"
     ]
    },
    {
     "name": "stdout",
     "output_type": "stream",
     "text": [
      "INFO:tensorflow:Done calling model_fn.\n"
     ]
    },
    {
     "name": "stderr",
     "output_type": "stream",
     "text": [
      "INFO:tensorflow:Done calling model_fn.\n"
     ]
    },
    {
     "name": "stdout",
     "output_type": "stream",
     "text": [
      "INFO:tensorflow:Starting evaluation at 2018-07-03-14:41:12\n"
     ]
    },
    {
     "name": "stderr",
     "output_type": "stream",
     "text": [
      "INFO:tensorflow:Starting evaluation at 2018-07-03-14:41:12\n"
     ]
    },
    {
     "name": "stdout",
     "output_type": "stream",
     "text": [
      "INFO:tensorflow:Graph was finalized.\n"
     ]
    },
    {
     "name": "stderr",
     "output_type": "stream",
     "text": [
      "INFO:tensorflow:Graph was finalized.\n"
     ]
    },
    {
     "name": "stdout",
     "output_type": "stream",
     "text": [
      "INFO:tensorflow:Restoring parameters from /var/folders/k5/ssmkw9vd2yb3h5wnqlxnqbkw0000gn/T/tmp8sbe2rt5/model.ckpt-1000\n"
     ]
    },
    {
     "name": "stderr",
     "output_type": "stream",
     "text": [
      "INFO:tensorflow:Restoring parameters from /var/folders/k5/ssmkw9vd2yb3h5wnqlxnqbkw0000gn/T/tmp8sbe2rt5/model.ckpt-1000\n"
     ]
    },
    {
     "name": "stdout",
     "output_type": "stream",
     "text": [
      "INFO:tensorflow:Running local_init_op.\n"
     ]
    },
    {
     "name": "stderr",
     "output_type": "stream",
     "text": [
      "INFO:tensorflow:Running local_init_op.\n"
     ]
    },
    {
     "name": "stdout",
     "output_type": "stream",
     "text": [
      "INFO:tensorflow:Done running local_init_op.\n"
     ]
    },
    {
     "name": "stderr",
     "output_type": "stream",
     "text": [
      "INFO:tensorflow:Done running local_init_op.\n"
     ]
    },
    {
     "name": "stdout",
     "output_type": "stream",
     "text": [
      "INFO:tensorflow:Finished evaluation at 2018-07-03-14:41:12\n"
     ]
    },
    {
     "name": "stderr",
     "output_type": "stream",
     "text": [
      "INFO:tensorflow:Finished evaluation at 2018-07-03-14:41:12\n"
     ]
    },
    {
     "name": "stdout",
     "output_type": "stream",
     "text": [
      "INFO:tensorflow:Saving dict for global step 1000: accuracy = 0.65336657, global_step = 1000, loss = 0.87268656\n"
     ]
    },
    {
     "name": "stderr",
     "output_type": "stream",
     "text": [
      "INFO:tensorflow:Saving dict for global step 1000: accuracy = 0.65336657, global_step = 1000, loss = 0.87268656\n"
     ]
    },
    {
     "name": "stdout",
     "output_type": "stream",
     "text": [
      "Testing Accuracy: 0.65336657\n"
     ]
    }
   ],
   "source": [
    "# Build the Estimator\n",
    "model = tf.estimator.Estimator(model_fn)\n",
    "\n",
    "# Define the input function for training\n",
    "input_fn = tf.estimator.inputs.numpy_input_fn(\n",
    "    x={'emb': X_train}, y=y_train,\n",
    "    batch_size=batch_size, num_epochs=None, shuffle=True)\n",
    "# Train the Model\n",
    "model.train(input_fn, steps=num_steps)\n",
    "\n",
    "# Evaluate the Model\n",
    "# Define the input function for evaluating\n",
    "input_fn = tf.estimator.inputs.numpy_input_fn(\n",
    "    x={'emb': X_test}, y=y_test,\n",
    "    batch_size=batch_size, shuffle=False)\n",
    "# Use the Estimator 'evaluate' method\n",
    "e = model.evaluate(input_fn)\n",
    "\n",
    "print(\"Testing Accuracy:\", e['accuracy'])"
   ]
  }
 ],
 "metadata": {
  "kernelspec": {
   "display_name": "Python 3",
   "language": "python",
   "name": "python3"
  },
  "language_info": {
   "codemirror_mode": {
    "name": "ipython",
    "version": 3
   },
   "file_extension": ".py",
   "mimetype": "text/x-python",
   "name": "python",
   "nbconvert_exporter": "python",
   "pygments_lexer": "ipython3",
   "version": "3.6.5"
  }
 },
 "nbformat": 4,
 "nbformat_minor": 2
}
